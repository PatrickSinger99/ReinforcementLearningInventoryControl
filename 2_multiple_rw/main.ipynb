{
 "cells": [
  {
   "cell_type": "markdown",
   "id": "1c9062a9",
   "metadata": {},
   "source": [
    "### 1. Imports"
   ]
  },
  {
   "cell_type": "code",
   "execution_count": 1,
   "id": "2d790a54",
   "metadata": {},
   "outputs": [
    {
     "name": "stdout",
     "output_type": "stream",
     "text": [
      "WARNING:tensorflow:\n",
      "The TensorFlow contrib module will not be included in TensorFlow 2.0.\n",
      "For more information, please see:\n",
      "  * https://github.com/tensorflow/community/blob/master/rfcs/20180907-contrib-sunset.md\n",
      "  * https://github.com/tensorflow/addons\n",
      "  * https://github.com/tensorflow/io (for I/O related ops)\n",
      "If you depend on functionality not listed there, please file an issue.\n",
      "\n"
     ]
    },
    {
     "name": "stderr",
     "output_type": "stream",
     "text": [
      "c:\\users\\patri\\documents\\github\\reinforcementlearninginventorymanagement\\venv_37\\lib\\site-packages\\stable_baselines\\__init__.py:33: UserWarning: stable-baselines is in maintenance mode, please use [Stable-Baselines3 (SB3)](https://github.com/DLR-RM/stable-baselines3) for an up-to-date version. You can find a [migration guide](https://stable-baselines3.readthedocs.io/en/master/guide/migration.html) in SB3 documentation.\n",
      "  \"stable-baselines is in maintenance mode, please use [Stable-Baselines3 (SB3)](https://github.com/DLR-RM/stable-baselines3) for an up-to-date version. You can find a [migration guide](https://stable-baselines3.readthedocs.io/en/master/guide/migration.html) in SB3 documentation.\"\n"
     ]
    }
   ],
   "source": [
    "# Import libraries\n",
    "import gym\n",
    "import numpy as np\n",
    "from stable_baselines.common.policies import MlpPolicy\n",
    "from stable_baselines import PPO2, A2C\n",
    "from matplotlib import pyplot as plt"
   ]
  },
  {
   "cell_type": "code",
   "execution_count": 2,
   "id": "8d1900ea",
   "metadata": {},
   "outputs": [],
   "source": [
    "# Import classes\n",
    "from rl_environment import Environment"
   ]
  },
  {
   "cell_type": "markdown",
   "id": "911beadd",
   "metadata": {},
   "source": [
    "### Environment creation"
   ]
  },
  {
   "cell_type": "code",
   "execution_count": 3,
   "id": "c5bffd38",
   "metadata": {},
   "outputs": [],
   "source": [
    "# Parameters\n",
    "number_of_regional_warehouses = 2\n",
    "max_inventory_amount_regional_warehouses = 40\n",
    "max_inventory_amount_central_warehouse = 100\n",
    "customer_demand_per_step = [1,2]  # List needs one entry per regional warehouse \n",
    "simulation_length = 30\n",
    "lead_time = 2\n",
    "shipment_amount = 10"
   ]
  },
  {
   "cell_type": "code",
   "execution_count": 4,
   "id": "f4e81e0c",
   "metadata": {},
   "outputs": [
    {
     "ename": "TypeError",
     "evalue": "__init__() missing 1 required positional argument: 'shipment_amount'",
     "output_type": "error",
     "traceback": [
      "\u001b[1;31m---------------------------------------------------------------------------\u001b[0m",
      "\u001b[1;31mTypeError\u001b[0m                                 Traceback (most recent call last)",
      "\u001b[1;32m~\\AppData\\Local\\Temp\\ipykernel_2988\\2170094654.py\u001b[0m in \u001b[0;36m<module>\u001b[1;34m\u001b[0m\n\u001b[0;32m      4\u001b[0m                   \u001b[0mdemand\u001b[0m \u001b[1;33m=\u001b[0m \u001b[0mcustomer_demand_per_step\u001b[0m\u001b[1;33m,\u001b[0m\u001b[1;33m\u001b[0m\u001b[0m\n\u001b[0;32m      5\u001b[0m                   \u001b[0msim_length\u001b[0m \u001b[1;33m=\u001b[0m \u001b[0msimulation_length\u001b[0m\u001b[1;33m,\u001b[0m\u001b[1;33m\u001b[0m\u001b[0m\n\u001b[1;32m----> 6\u001b[1;33m                   lead_time = lead_time)\n\u001b[0m\u001b[0;32m      7\u001b[0m \u001b[1;33m\u001b[0m\u001b[0m\n\u001b[0;32m      8\u001b[0m \u001b[0menv\u001b[0m\u001b[1;33m.\u001b[0m\u001b[0mprint_environment_information\u001b[0m\u001b[1;33m(\u001b[0m\u001b[1;33m)\u001b[0m\u001b[1;33m\u001b[0m\u001b[0m\n",
      "\u001b[1;31mTypeError\u001b[0m: __init__() missing 1 required positional argument: 'shipment_amount'"
     ]
    }
   ],
   "source": [
    "env = Environment(number_of_regional_wh = number_of_regional_warehouses, \n",
    "                  rw_inventory_limit = max_inventory_amount_regional_warehouses, \n",
    "                  cw_inventory_limit = max_inventory_amount_central_warehouse,\n",
    "                  demand = customer_demand_per_step,\n",
    "                  sim_length = simulation_length,\n",
    "                  lead_time = lead_time)\n",
    "\n",
    "env.print_environment_information()"
   ]
  },
  {
   "cell_type": "markdown",
   "id": "41e7c5cf",
   "metadata": {},
   "source": [
    "### RL model training"
   ]
  },
  {
   "cell_type": "markdown",
   "id": "f7b419b9",
   "metadata": {},
   "source": [
    "###### Model 1: PPO\n",
    "Proximal Policy Optimization\n",
    "https://openai.com/blog/openai-baselines-ppo/"
   ]
  },
  {
   "cell_type": "code",
   "execution_count": null,
   "id": "5dda0336",
   "metadata": {},
   "outputs": [],
   "source": [
    "ppo_model = PPO2(MlpPolicy, env, verbose=1)\n",
    "ppo_model.learn(total_timesteps=100000)"
   ]
  },
  {
   "cell_type": "markdown",
   "id": "c60d38c2",
   "metadata": {},
   "source": [
    "###### Learning Curve"
   ]
  },
  {
   "cell_type": "code",
   "execution_count": null,
   "id": "f85a0a5b",
   "metadata": {},
   "outputs": [],
   "source": [
    "plt.plot(env.total_reward)\n",
    "plt.show()"
   ]
  },
  {
   "cell_type": "markdown",
   "id": "3428d9e3",
   "metadata": {},
   "source": [
    "### Run simulation"
   ]
  },
  {
   "cell_type": "code",
   "execution_count": null,
   "id": "f7612a6a",
   "metadata": {},
   "outputs": [],
   "source": [
    "# Reset environment for simulation\n",
    "state = env.reset()\n",
    "done = False\n",
    "\n",
    "# Graph data\n",
    "inventory_levels = {}\n",
    "for rw_id in env.simulation.get_regional_warehouses():\n",
    "    inventory_levels[rw_id] = []\n",
    "\n",
    "# Run simulation with model\n",
    "while not done:\n",
    "    action, _states = ppo_model.predict(state)\n",
    "    state, reward, done, info = env.step(action)\n",
    "    \n",
    "    # For Graph\n",
    "    i = 1\n",
    "    for inv in info[\"Inventory:\"]:\n",
    "        inventory_levels[i].append(inv)\n",
    "        i += 1\n",
    "    \n",
    "    # print(env.simulation.print_state())\n",
    "    for i in info:\n",
    "        print(i, info[i], end=\" | \")\n",
    "    print()\n",
    "    \n",
    "print(\"\\n\", env.evaluation_parameters())"
   ]
  },
  {
   "cell_type": "markdown",
   "id": "0a5d3350",
   "metadata": {},
   "source": [
    "###### Inventory level graph"
   ]
  },
  {
   "cell_type": "code",
   "execution_count": null,
   "id": "8dc6a7b6",
   "metadata": {
    "scrolled": true
   },
   "outputs": [],
   "source": [
    "for rw_id in inventory_levels:\n",
    "    print(\"Regional warehouse\", rw_id)\n",
    "    plt.plot(inventory_levels[rw_id])\n",
    "    plt.show()"
   ]
  },
  {
   "cell_type": "code",
   "execution_count": null,
   "id": "aa1a9852",
   "metadata": {},
   "outputs": [],
   "source": []
  }
 ],
 "metadata": {
  "kernelspec": {
   "display_name": "Python 3 (ipykernel)",
   "language": "python",
   "name": "python3"
  },
  "language_info": {
   "codemirror_mode": {
    "name": "ipython",
    "version": 3
   },
   "file_extension": ".py",
   "mimetype": "text/x-python",
   "name": "python",
   "nbconvert_exporter": "python",
   "pygments_lexer": "ipython3",
   "version": "3.7.0"
  }
 },
 "nbformat": 4,
 "nbformat_minor": 5
}
