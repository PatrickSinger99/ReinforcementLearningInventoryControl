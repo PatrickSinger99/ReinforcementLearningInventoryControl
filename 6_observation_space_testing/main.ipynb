{
 "cells": [
  {
   "cell_type": "markdown",
   "id": "1c9062a9",
   "metadata": {},
   "source": [
    "### 1. Imports"
   ]
  },
  {
   "cell_type": "code",
   "execution_count": null,
   "id": "2d790a54",
   "metadata": {},
   "outputs": [],
   "source": [
    "# Import libraries\n",
    "import warnings\n",
    "warnings.filterwarnings(\"ignore\")\n",
    "import gym\n",
    "import numpy as np\n",
    "from stable_baselines3 import PPO, A2C, DQN\n",
    "from matplotlib import pyplot as plt\n",
    "import matplotlib.lines as mlines\n",
    "import json\n",
    "import jsbeautifier\n",
    "from datetime import datetime"
   ]
  },
  {
   "cell_type": "code",
   "execution_count": null,
   "id": "8d1900ea",
   "metadata": {},
   "outputs": [],
   "source": [
    "# Import classes\n",
    "from rl_environment_arrival_amount_no_bool import Environment"
   ]
  },
  {
   "cell_type": "markdown",
   "id": "911beadd",
   "metadata": {},
   "source": [
    "### 2. Parameter Selection"
   ]
  },
  {
   "cell_type": "markdown",
   "id": "4f8b12ad",
   "metadata": {},
   "source": [
    "#### Parameters for Simulation"
   ]
  },
  {
   "cell_type": "code",
   "execution_count": null,
   "id": "c5bffd38",
   "metadata": {},
   "outputs": [],
   "source": [
    "number_of_regional_warehouses = 2\n",
    "max_inventory_amount_regional_warehouses = 30\n",
    "max_inventory_amount_central_warehouse = 60\n",
    "customer_demand_per_step = [2,3,1]  # List needs one entry per regional warehouse \n",
    "simulation_length = 40\n",
    "lead_time = 2\n",
    "shipment_amount = [8]  # Regarding regional warehouses\n",
    "with_manufacturer = True\n",
    "cw_shipment_amount = 10  # Regarding central warehouse\n",
    "manufacturer_prod_capacity_per_step = 10\n",
    "shipment_var_cost_per_unit = 0.02\n",
    "shipment_fixed_cost = .25  # Reward penalty\n",
    "inventory_holding_cost_multiplier = 1 # Standard = 1; Can be lowered; Not higher that 1\n",
    "cw_inventory_holding_cost_multiplier = .5\n",
    "demand_fluctuation = 1\n",
    "lead_time_fluctuation = 0\n",
    "customer_priorities = [1, 1, 1] # List needs one entry per regional warehouse customer "
   ]
  },
  {
   "cell_type": "markdown",
   "id": "0be14ced",
   "metadata": {},
   "source": [
    "#### Parameters for Agent Training"
   ]
  },
  {
   "cell_type": "code",
   "execution_count": null,
   "id": "a4052a09",
   "metadata": {},
   "outputs": [],
   "source": [
    "algorithm = \"DQN\"  # \"PPO\", \"A2C\" or \"DQN\"\n",
    "training_steps = 200000\n",
    "\n",
    "print(\"-> Equals to \" + str(int(training_steps/simulation_length)) + \" training episodes\")"
   ]
  },
  {
   "cell_type": "markdown",
   "id": "290f4b6e",
   "metadata": {},
   "source": [
    "###### Parameters for Logging File"
   ]
  },
  {
   "cell_type": "code",
   "execution_count": null,
   "id": "755e28d5",
   "metadata": {},
   "outputs": [],
   "source": [
    "create_logfile = True\n",
    "logfile_location = \"./logfiles\" # Can be partial or full path. Empty string for current directory"
   ]
  },
  {
   "cell_type": "markdown",
   "id": "ed536121",
   "metadata": {},
   "source": [
    "### 3. Environment Creation"
   ]
  },
  {
   "cell_type": "markdown",
   "id": "1e8d301a",
   "metadata": {},
   "source": [
    "###### Determine if chosen algorithm needs discrete action space"
   ]
  },
  {
   "cell_type": "code",
   "execution_count": null,
   "id": "f7dcd704",
   "metadata": {},
   "outputs": [],
   "source": [
    "algorithms_that_need_single_action_value = [\"DQN\"]\n",
    "\n",
    "if algorithm.upper() in algorithms_that_need_single_action_value:\n",
    "    use_single_value_action_space = True\n",
    "else:\n",
    "    use_single_value_action_space = False"
   ]
  },
  {
   "cell_type": "markdown",
   "id": "fc41ef48",
   "metadata": {},
   "source": [
    "#### Creating Environment"
   ]
  },
  {
   "cell_type": "code",
   "execution_count": null,
   "id": "f4e81e0c",
   "metadata": {},
   "outputs": [],
   "source": [
    "env = Environment(number_of_regional_wh = number_of_regional_warehouses, \n",
    "                  rw_inventory_limit = max_inventory_amount_regional_warehouses, \n",
    "                  cw_inventory_limit = max_inventory_amount_central_warehouse,\n",
    "                  demand = customer_demand_per_step,\n",
    "                  sim_length = simulation_length,\n",
    "                  lead_time = lead_time,\n",
    "                  shipment_amount = shipment_amount,\n",
    "                  manufacturer = with_manufacturer,\n",
    "                  cw_shipment_amount = cw_shipment_amount,\n",
    "                  mf_prod_capacity = manufacturer_prod_capacity_per_step,\n",
    "                  shipment_var_cost_per_unit = shipment_var_cost_per_unit,\n",
    "                  shipment_fixed_cost = shipment_fixed_cost,\n",
    "                  inventory_holding_cost_multiplier = inventory_holding_cost_multiplier,\n",
    "                  cw_inventory_holding_cost_multiplier = cw_inventory_holding_cost_multiplier,\n",
    "                  demand_fluctuation = demand_fluctuation,\n",
    "                  lead_time_fluctuation = lead_time_fluctuation,\n",
    "                  use_single_value_action_space = use_single_value_action_space,\n",
    "                  customer_priorities = customer_priorities\n",
    "                 )\n",
    "\n",
    "env.print_environment_information()"
   ]
  },
  {
   "cell_type": "markdown",
   "id": "bd4cad0c",
   "metadata": {},
   "source": [
    "###### Initiate Logfile"
   ]
  },
  {
   "cell_type": "code",
   "execution_count": null,
   "id": "637884f0",
   "metadata": {},
   "outputs": [],
   "source": [
    "if create_logfile:\n",
    "    parameter_dict = {\"number_of_regional_warehouses\" : number_of_regional_warehouses,\n",
    "                      \"rw_inventory_limit\" : max_inventory_amount_regional_warehouses,\n",
    "                      \"cw_inventory_limit\" : max_inventory_amount_central_warehouse, \"demand\" : customer_demand_per_step,\n",
    "                      \"sim_length\" : simulation_length, \"lead_time\" : lead_time, \"shipment_amount\" : shipment_amount,\n",
    "                      \"manufacturer\" : with_manufacturer, \"cw_shipment_amount\" : cw_shipment_amount,\n",
    "                      \"mf_prod_capacity\" : manufacturer_prod_capacity_per_step,\n",
    "                      \"shipment_var_cost_per_unit\" : shipment_var_cost_per_unit, \"shipment_fixed_cost\" : shipment_fixed_cost,\n",
    "                      \"inventory_holding_cost_multiplier\" : inventory_holding_cost_multiplier,\n",
    "                      \"cw_inventory_holding_cost_multiplier\" : cw_inventory_holding_cost_multiplier,\n",
    "                      \"demand_fluctuation\" : demand_fluctuation, \"lead_time_fluctuation\" : lead_time_fluctuation,\n",
    "                      \"use_single_value_action_space\" : use_single_value_action_space,\n",
    "                      \"customer_priorities\" : customer_priorities\n",
    "                     }\n",
    "    \n",
    "    algorithm_dict = {\"rl_model\": algorithm, \"num_of_training_steps\": training_steps}\n",
    "    json_dict = {\"simulation_parameters\":parameter_dict, \"rl_model_training\": algorithm_dict}"
   ]
  },
  {
   "cell_type": "markdown",
   "id": "41e7c5cf",
   "metadata": {},
   "source": [
    "### 3. RL model training"
   ]
  },
  {
   "cell_type": "markdown",
   "id": "f7b419b9",
   "metadata": {},
   "source": [
    "###### Model Selection\n",
    "PPO (Proximal Policy Optimization)\n",
    "https://openai.com/blog/openai-baselines-ppo/\n",
    "\n",
    "A2C\n",
    "https://openai.com/blog/baselines-acktr-a2c/\n",
    "\n",
    "DQN\n",
    "https://openai.com/blog/openai-baselines-dqn/"
   ]
  },
  {
   "cell_type": "code",
   "execution_count": null,
   "id": "5dda0336",
   "metadata": {
    "scrolled": true
   },
   "outputs": [],
   "source": [
    "# Choose algorithm based on user decision\n",
    "if algorithm.upper() == \"PPO\":\n",
    "    trained_model = PPO(\"MultiInputPolicy\", env, verbose=1)\n",
    "elif algorithm.upper() == \"A2C\":\n",
    "    trained_model = A2C(\"MultiInputPolicy\", env, verbose=1)\n",
    "elif algorithm.upper() == \"DQN\":\n",
    "    trained_model = DQN(\"MultiInputPolicy\", env, verbose=1)\n",
    "else:\n",
    "    print(\"Model not found\")\n",
    "    exit()\n",
    "\n",
    "# Start model training\n",
    "trained_model.learn(total_timesteps=training_steps)"
   ]
  },
  {
   "cell_type": "markdown",
   "id": "c60d38c2",
   "metadata": {},
   "source": [
    "###### Learning Curve"
   ]
  },
  {
   "cell_type": "code",
   "execution_count": null,
   "id": "f85a0a5b",
   "metadata": {},
   "outputs": [],
   "source": [
    "# Plot learning curve\n",
    "plt.rcParams[\"figure.figsize\"] = (10, 5)\n",
    "plt.plot(env.total_reward, color=\"#FF4444\")\n",
    "plt.title(\"Learning Curve\")\n",
    "plt.xlim(0, len(env.total_reward))\n",
    "plt.ylabel(\"Total Reward per Simulation\")\n",
    "plt.xlabel(\"Training Episode\")\n",
    "plt.show()\n",
    "\n",
    "if create_logfile:\n",
    "    json_dict[\"rl_model_training\"][\"training_rewards\"] = env.total_reward\n",
    "\n",
    "# Print used data if True\n",
    "if False:\n",
    "    print(\"Total Rewards:\", env.total_reward)"
   ]
  },
  {
   "cell_type": "markdown",
   "id": "3428d9e3",
   "metadata": {},
   "source": [
    "### 4. Run simulation"
   ]
  },
  {
   "cell_type": "code",
   "execution_count": null,
   "id": "6f24f586",
   "metadata": {},
   "outputs": [],
   "source": [
    "# Convert actions for graphs\n",
    "def convert_to_marker_pos(action):\n",
    "    return_list = []\n",
    "    i = 0\n",
    "    for entry in action:\n",
    "        if entry != 0:\n",
    "            return_list.append(i)\n",
    "        i += 1\n",
    "    return return_list\n",
    "\n",
    "\n",
    "# Graph data\n",
    "cw_inventory_level, cw_actions = [], []\n",
    "inventory_levels, actions = {}, {}\n",
    "manufacturer_inventory = []\n",
    "\n",
    "for rw_id in env.simulation.get_regional_warehouses():\n",
    "    inventory_levels[rw_id] = []\n",
    "    actions[rw_id] = []"
   ]
  },
  {
   "cell_type": "code",
   "execution_count": null,
   "id": "f7612a6a",
   "metadata": {},
   "outputs": [],
   "source": [
    "# Reset environment for simulation\n",
    "state = env.reset()\n",
    "done = False\n",
    "\n",
    "# Run simulation with model\n",
    "while not done:\n",
    "    action, _states = trained_model.predict(state) \n",
    "    state, reward, done, info = env.step(action)\n",
    "    \n",
    "    # For Graph\n",
    "    i = 1\n",
    "    for inv in info[\"RW Invs:\"]:\n",
    "        inventory_levels[i].append(inv)\n",
    "        i += 1\n",
    "\n",
    "    i = 1\n",
    "    for act in info[\"Action:\"][0:len(env.simulation.get_regional_warehouses())]:\n",
    "        actions[i].append(act)\n",
    "        i += 1\n",
    "    \n",
    "    try:\n",
    "        cw_inventory_level.append(info[\"CW Inv:\"])\n",
    "        cw_actions.append(info[\"Action:\"][-1])\n",
    "        manufacturer_inventory.append(info[\"Manufacturer:\"])\n",
    "    except:\n",
    "        pass\n",
    "    \n",
    "    # print(env.simulation.print_state())\n",
    "    for i in info:\n",
    "        print(i, info[i], end=\" | \")\n",
    "    print()\n",
    "    \n",
    "print(\"\\n\", env.evaluation_parameters())"
   ]
  },
  {
   "cell_type": "markdown",
   "id": "0a5d3350",
   "metadata": {},
   "source": [
    "###### Inventory level graphs"
   ]
  },
  {
   "cell_type": "code",
   "execution_count": null,
   "id": "8dc6a7b6",
   "metadata": {
    "scrolled": true
   },
   "outputs": [],
   "source": [
    "# Plots inventories of regional warehouses\n",
    "\n",
    "reorder_marker = mlines.Line2D([],[], color='#66C2A5', marker='o', linestyle='None', label=\"Agent reorder point\")\n",
    "plt.rcParams[\"figure.figsize\"] = (20, 5)\n",
    "\n",
    "for rw_id in inventory_levels:\n",
    "    plt.subplot(1, number_of_regional_warehouses, rw_id)\n",
    "    plt.plot([0] + inventory_levels[rw_id], \"-bo\", markevery=convert_to_marker_pos([0] + actions[rw_id]), color=\"#66C2A5\", linewidth=2)\n",
    "    plt.legend(handles=[reorder_marker])\n",
    "    plt.title(\"Regional Warehouse \" + str(rw_id))\n",
    "    plt.ylim(0, max_inventory_amount_regional_warehouses)\n",
    "    plt.xlim(1, simulation_length)\n",
    "    plt.ylabel(\"Inventory Amount\")\n",
    "    plt.xlabel(\"Round\")\n",
    "    \n",
    "    # Print used data if True\n",
    "    if False:\n",
    "        print(\"RW\", rw_id, \"data:\")\n",
    "        print(\"Inventory:\", inventory_levels[rw_id])\n",
    "        print(\"Actions:\", actions[rw_id])\n",
    "        print(\"_\"*100)\n",
    "\n",
    "plt.show()"
   ]
  },
  {
   "cell_type": "code",
   "execution_count": null,
   "id": "aa1a9852",
   "metadata": {},
   "outputs": [],
   "source": [
    "# Plots for CW and Manufacturer (Will only display if manufacturer is simulated)\n",
    "if len(cw_inventory_level) != 0:\n",
    "    # Plot for CW inventory with ordering points\n",
    "    plt.rcParams[\"figure.figsize\"] = (20, 5)\n",
    "    plt.subplot(1, 2, 1)\n",
    "    reorder_marker = mlines.Line2D([],[], color='#FC8D62', marker='o', linestyle='None', label=\"Agent reorder point\")\n",
    "    plt.plot([0] + cw_inventory_level, \"-bo\", color=\"#FC8D62\", markevery=convert_to_marker_pos([0] + cw_actions), linewidth=2)\n",
    "    plt.legend(handles=[reorder_marker])\n",
    "    plt.title(\"Central Warehouse\")\n",
    "    plt.ylim(0, max_inventory_amount_central_warehouse)\n",
    "    plt.xlim(1, simulation_length)\n",
    "    plt.ylabel(\"Inventory Amount\")\n",
    "    plt.xlabel(\"Round\")\n",
    "    \n",
    "    # Plot for manufacturer inventory\n",
    "    plt.subplot(1, 2, 2)\n",
    "    plt.plot([0] + manufacturer_inventory, color=\"#8DA0CB\", linewidth=2)\n",
    "    plt.title(\"Manufacturer\")\n",
    "    plt.ylim(0, env.simulation.get_manufacturer().get_inventory_limit()+5)\n",
    "    plt.xlim(1, simulation_length)\n",
    "    plt.ylabel(\"Inventory Amount\")\n",
    "    plt.xlabel(\"Round\")\n",
    "    plt.show()\n",
    "    \n",
    "    # Print used data if True\n",
    "    if False:\n",
    "        print(\"CW Inventory:\", cw_inventory_level)\n",
    "        print(\"CW Actions:\", cw_actions)\n",
    "        print(\"Manufacturer Inventrory:\", manufacturer_inventory)"
   ]
  },
  {
   "cell_type": "markdown",
   "id": "eec56afd",
   "metadata": {},
   "source": [
    "### 5. Create Logfile"
   ]
  },
  {
   "cell_type": "code",
   "execution_count": null,
   "id": "a00f4bd5",
   "metadata": {},
   "outputs": [],
   "source": [
    "if create_logfile:\n",
    "    simulation_run_data = {}\n",
    "    simulation_run_data[\"stats\"] = env.evaluation_parameters()\n",
    "    for rw_id in inventory_levels:\n",
    "        simulation_run_data[\"regional_warehouse_\" + str(rw_id)] = {}\n",
    "        simulation_run_data[\"regional_warehouse_\" + str(rw_id)][\"inventory\"] = inventory_levels[rw_id]\n",
    "        simulation_run_data[\"regional_warehouse_\" + str(rw_id)][\"actions\"] = actions[rw_id]\n",
    "    \n",
    "    if len(cw_inventory_level) != 0:\n",
    "        simulation_run_data[\"central_warehouse\"] = {}\n",
    "        simulation_run_data[\"central_warehouse\"][\"inventory\"] = str(cw_inventory_level) # Fix intc not compatiple with json (str for temp fix)\n",
    "        simulation_run_data[\"central_warehouse\"][\"actions\"] = str(cw_actions)\n",
    "        \n",
    "        simulation_run_data[\"manufacturer\"] = {}\n",
    "        simulation_run_data[\"manufacturer\"][\"inventory\"] = manufacturer_inventory\n",
    "\n",
    "    json_dict[\"simulation_run_data\"] = simulation_run_data\n",
    "    \n",
    "    now = datetime.now()\n",
    "    dt_string = now.strftime(\"%Y-%m-%d_%H-%M-%S\")\n",
    "    \n",
    "    with open(logfile_location + \"/logfile_\" + dt_string + \".json\", 'w') as f:\n",
    "        options = jsbeautifier.default_options()\n",
    "        options.indent_size = 4\n",
    "        f.write(jsbeautifier.beautify(json.dumps(json_dict), options))\n",
    "        print(\"Logfile was created\")"
   ]
  }
 ],
 "metadata": {
  "kernelspec": {
   "display_name": "Python 3 (ipykernel)",
   "language": "python",
   "name": "python3"
  },
  "language_info": {
   "codemirror_mode": {
    "name": "ipython",
    "version": 3
   },
   "file_extension": ".py",
   "mimetype": "text/x-python",
   "name": "python",
   "nbconvert_exporter": "python",
   "pygments_lexer": "ipython3",
   "version": "3.7.0"
  }
 },
 "nbformat": 4,
 "nbformat_minor": 5
}
