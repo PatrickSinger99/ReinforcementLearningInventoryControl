{
 "cells": [
  {
   "cell_type": "markdown",
   "id": "1c9062a9",
   "metadata": {},
   "source": [
    "### 1. Imports"
   ]
  },
  {
   "cell_type": "code",
   "execution_count": 1,
   "id": "2d790a54",
   "metadata": {},
   "outputs": [],
   "source": [
    "# Import libraries\n",
    "import warnings\n",
    "warnings.filterwarnings(\"ignore\")\n",
    "import gym\n",
    "import numpy as np\n",
    "from stable_baselines3 import PPO, A2C\n",
    "from matplotlib import pyplot as plt"
   ]
  },
  {
   "cell_type": "code",
   "execution_count": 2,
   "id": "8d1900ea",
   "metadata": {},
   "outputs": [],
   "source": [
    "# Import classes\n",
    "from rl_environment import Environment"
   ]
  },
  {
   "cell_type": "markdown",
   "id": "911beadd",
   "metadata": {},
   "source": [
    "### 2. Environment creation"
   ]
  },
  {
   "cell_type": "markdown",
   "id": "4f8b12ad",
   "metadata": {},
   "source": [
    "#### Parameters for Simulation"
   ]
  },
  {
   "cell_type": "code",
   "execution_count": 3,
   "id": "c5bffd38",
   "metadata": {},
   "outputs": [],
   "source": [
    "number_of_regional_warehouses = 2\n",
    "max_inventory_amount_regional_warehouses = 30\n",
    "max_inventory_amount_central_warehouse = 60\n",
    "customer_demand_per_step = [2,1,3]  # List needs one entry per regional warehouse \n",
    "simulation_length = 45\n",
    "lead_time = 2\n",
    "shipment_amount = [6, 10]  # Regarding regional warehouses\n",
    "with_manufacturer = False\n",
    "cw_shipment_amount = 10  # Regarding central warehosue\n",
    "manufacturer_prod_capacity_per_step = 5\n",
    "shipment_var_cost_per_unit = 0.05\n",
    "shipment_fixed_cost = .25  # Reward penalty\n",
    "inventory_holding_cost_multiplier = 1 # Standard = 1; Can be lowered; Not higher that 1\n",
    "demand_fluctuation = 0\n",
    "lead_time_fluctuation = 0"
   ]
  },
  {
   "cell_type": "markdown",
   "id": "0be14ced",
   "metadata": {},
   "source": [
    "#### Parameters for Agent Training"
   ]
  },
  {
   "cell_type": "code",
   "execution_count": 4,
   "id": "a4052a09",
   "metadata": {},
   "outputs": [
    {
     "name": "stdout",
     "output_type": "stream",
     "text": [
      "-> Equals to 666 simulation training rounds\n"
     ]
    }
   ],
   "source": [
    "algorithm = \"A2C\"  # \"PPO\" or \"A2C\"\n",
    "training_steps = 30000\n",
    "\n",
    "print(\"-> Equals to \" + str(int(training_steps/simulation_length)) + \" simulation training rounds\")"
   ]
  },
  {
   "cell_type": "markdown",
   "id": "fc41ef48",
   "metadata": {},
   "source": [
    "#### Creating Environment"
   ]
  },
  {
   "cell_type": "code",
   "execution_count": 5,
   "id": "f4e81e0c",
   "metadata": {},
   "outputs": [
    {
     "name": "stdout",
     "output_type": "stream",
     "text": [
      "Simulation created with the following parameters:\n",
      "________________________________________________________________________________\n",
      "Simulation | Round 1\n",
      "-------------------\n",
      "-> Active shipments:\n",
      "No active shipments\n",
      "\n",
      "-> Warehouses:\n",
      "central_warehouse ; Inventory: 20\n",
      "regional_warehouse_1 ; ID: 1 ; Inventory: 10 ; Demand: 2 ; Lost sales: 0\n",
      "regional_warehouse_2 ; ID: 2 ; Inventory: 10 ; Demand: 1 ; Lost sales: 0\n",
      "________________________________________________________________________________\n",
      "Environment Information\n",
      "-----------------------\n",
      "-> Gym spaces:\n",
      "Observation space: Dict(rw_inventories:MultiDiscrete([31 31]), shipments:MultiDiscrete([2 2]))\n",
      "Action space: MultiDiscrete([3 3])\n",
      "Starting state: {'rw_inventories': array([10, 10]), 'shipments': array([0, 0])}\n",
      "\n",
      "-> Reward penalty per shipment size:\n",
      "Shipment of 6: 0.55\n",
      "Shipment of 10: 0.75\n",
      "________________________________________________________________________________\n"
     ]
    }
   ],
   "source": [
    "env = Environment(number_of_regional_wh = number_of_regional_warehouses, \n",
    "                  rw_inventory_limit = max_inventory_amount_regional_warehouses, \n",
    "                  cw_inventory_limit = max_inventory_amount_central_warehouse,\n",
    "                  demand = customer_demand_per_step,\n",
    "                  sim_length = simulation_length,\n",
    "                  lead_time = lead_time,\n",
    "                  shipment_amount = shipment_amount,\n",
    "                  manufacturer = with_manufacturer,\n",
    "                  cw_shipment_amount = cw_shipment_amount,\n",
    "                  mf_prod_capacity = manufacturer_prod_capacity_per_step,\n",
    "                  shipment_var_cost_per_unit = shipment_var_cost_per_unit,\n",
    "                  shipment_fixed_cost = shipment_fixed_cost,\n",
    "                  inventory_holding_cost_multiplier = inventory_holding_cost_multiplier,\n",
    "                  demand_fluctuation = demand_fluctuation,\n",
    "                  lead_time_fluctuation = lead_time_fluctuation\n",
    "                 )\n",
    "\n",
    "env.print_environment_information()"
   ]
  },
  {
   "cell_type": "markdown",
   "id": "41e7c5cf",
   "metadata": {},
   "source": [
    "### 3. RL model training"
   ]
  },
  {
   "cell_type": "markdown",
   "id": "f7b419b9",
   "metadata": {},
   "source": [
    "###### Model Selection\n",
    "PPO (Proximal Policy Optimization)\n",
    "https://openai.com/blog/openai-baselines-ppo/\n",
    "\n",
    "A2C\n",
    "https://openai.com/blog/baselines-acktr-a2c/"
   ]
  },
  {
   "cell_type": "code",
   "execution_count": null,
   "id": "5dda0336",
   "metadata": {
    "scrolled": true
   },
   "outputs": [
    {
     "name": "stdout",
     "output_type": "stream",
     "text": [
      "Using cpu device\n",
      "Wrapping the env with a `Monitor` wrapper\n",
      "Wrapping the env in a DummyVecEnv.\n",
      "------------------------------------\n",
      "| rollout/              |          |\n",
      "|    ep_len_mean        | 45       |\n",
      "|    ep_rew_mean        | -9.8     |\n",
      "| time/                 |          |\n",
      "|    fps                | 319      |\n",
      "|    iterations         | 100      |\n",
      "|    time_elapsed       | 1        |\n",
      "|    total_timesteps    | 500      |\n",
      "| train/                |          |\n",
      "|    entropy_loss       | -0.788   |\n",
      "|    explained_variance | -0.793   |\n",
      "|    learning_rate      | 0.0007   |\n",
      "|    n_updates          | 99       |\n",
      "|    policy_loss        | 2.34     |\n",
      "|    value_loss         | 9.06     |\n",
      "------------------------------------\n",
      "------------------------------------\n",
      "| rollout/              |          |\n",
      "|    ep_len_mean        | 45       |\n",
      "|    ep_rew_mean        | -9.73    |\n",
      "| time/                 |          |\n",
      "|    fps                | 390      |\n",
      "|    iterations         | 200      |\n",
      "|    time_elapsed       | 2        |\n",
      "|    total_timesteps    | 1000     |\n",
      "| train/                |          |\n",
      "|    entropy_loss       | -0.759   |\n",
      "|    explained_variance | 0.644    |\n",
      "|    learning_rate      | 0.0007   |\n",
      "|    n_updates          | 199      |\n",
      "|    policy_loss        | 0.0738   |\n",
      "|    value_loss         | 0.136    |\n",
      "------------------------------------\n"
     ]
    }
   ],
   "source": [
    "if algorithm.upper() == \"PPO\":\n",
    "    trained_model = PPO(\"MultiInputPolicy\", env, verbose=1)\n",
    "elif algorithm.upper() == \"A2C\":\n",
    "    trained_model = A2C(\"MultiInputPolicy\", env, verbose=1)\n",
    "else:\n",
    "    print(\"Model not found\")\n",
    "    exit()\n",
    "trained_model.learn(total_timesteps=training_steps)"
   ]
  },
  {
   "cell_type": "markdown",
   "id": "c60d38c2",
   "metadata": {},
   "source": [
    "###### Learning Curve"
   ]
  },
  {
   "cell_type": "code",
   "execution_count": null,
   "id": "f85a0a5b",
   "metadata": {},
   "outputs": [],
   "source": [
    "plt.rcParams[\"figure.figsize\"] = (10, 5)\n",
    "plt.plot(env.total_reward, color=\"red\")\n",
    "plt.title(\"Learning Curve\")\n",
    "plt.xlim(0, len(env.total_reward))\n",
    "plt.ylabel(\"Total Reward per Simulation\")\n",
    "plt.xlabel(\"Simulation Round\")\n",
    "plt.show()"
   ]
  },
  {
   "cell_type": "markdown",
   "id": "3428d9e3",
   "metadata": {},
   "source": [
    "### 4. Run simulation"
   ]
  },
  {
   "cell_type": "code",
   "execution_count": null,
   "id": "f7612a6a",
   "metadata": {},
   "outputs": [],
   "source": [
    "# Reset environment for simulation\n",
    "state = env.reset()\n",
    "done = False\n",
    "\n",
    "# Graph data\n",
    "inventory_levels = {}\n",
    "for rw_id in env.simulation.get_regional_warehouses():\n",
    "    inventory_levels[rw_id] = []\n",
    "    \n",
    "cw_inventory_level = []\n",
    "\n",
    "# Run simulation with model\n",
    "while not done:\n",
    "    action, _states = trained_model.predict(state)\n",
    "    state, reward, done, info = env.step(action)\n",
    "    \n",
    "    # For Graph\n",
    "    i = 1\n",
    "    for inv in info[\"RW Invs:\"]:\n",
    "        inventory_levels[i].append(inv)\n",
    "        i += 1\n",
    "    try:\n",
    "        cw_inventory_level.append(info[\"CW Inv:\"])\n",
    "    except:\n",
    "        pass\n",
    "    \n",
    "    # print(env.simulation.print_state())\n",
    "    for i in info:\n",
    "        print(i, info[i], end=\" | \")\n",
    "    print()\n",
    "    \n",
    "print(\"\\n\", env.evaluation_parameters())"
   ]
  },
  {
   "cell_type": "markdown",
   "id": "0a5d3350",
   "metadata": {},
   "source": [
    "###### Inventory level graphs"
   ]
  },
  {
   "cell_type": "code",
   "execution_count": null,
   "id": "8dc6a7b6",
   "metadata": {
    "scrolled": true
   },
   "outputs": [],
   "source": [
    "# Plot inventories of regional warehouses\n",
    "\n",
    "plt.rcParams[\"figure.figsize\"] = (20, 5)\n",
    "\n",
    "for rw_id in inventory_levels:\n",
    "    # print(inventory_levels[rw_id])\n",
    "    plt.subplot(1, number_of_regional_warehouses, rw_id)\n",
    "    plt.plot(inventory_levels[rw_id])\n",
    "    plt.title(\"Regional Warehouse \" + str(rw_id))\n",
    "    plt.ylim(0, max_inventory_amount_regional_warehouses)\n",
    "    plt.xlim(0, simulation_length-1)\n",
    "    plt.ylabel(\"Inventory Amount\")\n",
    "    plt.xlabel(\"Round\")\n",
    "\n",
    "plt.show()"
   ]
  },
  {
   "cell_type": "code",
   "execution_count": null,
   "id": "aa1a9852",
   "metadata": {},
   "outputs": [],
   "source": [
    "# Plot central warehouse inventory (Only display if simulated by adding a manufacturer)\n",
    "if len(cw_inventory_level) != 0:\n",
    "    plt.rcParams[\"figure.figsize\"] = (20, 5)\n",
    "    plt.plot(cw_inventory_level, color=\"green\")\n",
    "    plt.title(\"Central Warehouse\")\n",
    "    plt.ylim(0, max_inventory_amount_central_warehouse)\n",
    "    plt.xlim(0, simulation_length-1)\n",
    "    plt.ylabel(\"Inventory Amount\")\n",
    "    plt.xlabel(\"Round\")\n",
    "    plt.show()"
   ]
  },
  {
   "cell_type": "code",
   "execution_count": null,
   "id": "87afa842",
   "metadata": {},
   "outputs": [],
   "source": []
  }
 ],
 "metadata": {
  "kernelspec": {
   "display_name": "Python 3 (ipykernel)",
   "language": "python",
   "name": "python3"
  },
  "language_info": {
   "codemirror_mode": {
    "name": "ipython",
    "version": 3
   },
   "file_extension": ".py",
   "mimetype": "text/x-python",
   "name": "python",
   "nbconvert_exporter": "python",
   "pygments_lexer": "ipython3",
   "version": "3.7.0"
  }
 },
 "nbformat": 4,
 "nbformat_minor": 5
}
